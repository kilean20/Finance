{
 "cells": [
  {
   "cell_type": "code",
   "execution_count": null,
   "metadata": {
    "colab": {
     "base_uri": "https://localhost:8080/",
     "height": 238
    },
    "colab_type": "code",
    "id": "y5XSCpktxPRa",
    "outputId": "bace7ab2-c8eb-450f-c691-9fc019f62d44"
   },
   "outputs": [],
   "source": [
    "# pip install --user yfinance"
   ]
  },
  {
   "cell_type": "code",
   "execution_count": null,
   "metadata": {},
   "outputs": [],
   "source": [
    "# pip install --user yahoo_fin"
   ]
  },
  {
   "cell_type": "code",
   "execution_count": null,
   "metadata": {
    "colab": {},
    "colab_type": "code",
    "id": "RnvGJvGwC4vU"
   },
   "outputs": [],
   "source": [
    "# pip install pandas-datareader"
   ]
  },
  {
   "cell_type": "code",
   "execution_count": null,
   "metadata": {
    "colab": {},
    "colab_type": "code",
    "id": "0CHgQDEjeDQk"
   },
   "outputs": [],
   "source": [
    "start='2018-10-27'\n",
    "end  ='2020-9-30'\n",
    "# data_source = 'yahoo'"
   ]
  },
  {
   "cell_type": "code",
   "execution_count": null,
   "metadata": {
    "colab": {},
    "colab_type": "code",
    "id": "L6DovafLwBMK"
   },
   "outputs": [],
   "source": [
    "# from pandas_datareader import data\n",
    "import yfinance as yf\n",
    "from yahoo_fin import stock_info as si\n",
    "import matplotlib.pyplot as plt\n",
    "import pandas as pd\n",
    "import numpy as np\n",
    "from copy import deepcopy as copy"
   ]
  },
  {
   "cell_type": "markdown",
   "metadata": {
    "colab_type": "text",
    "id": "btWSuVIEtGPe"
   },
   "source": [
    "### VOO example"
   ]
  },
  {
   "cell_type": "code",
   "execution_count": null,
   "metadata": {
    "colab": {
     "base_uri": "https://localhost:8080/",
     "height": 195
    },
    "colab_type": "code",
    "id": "zkU5hJLxw2Zl",
    "outputId": "e3623aaa-0d3d-4721-96db-051fb193fd06"
   },
   "outputs": [],
   "source": [
    "VOO = yf.Ticker(\"VOO\")\n",
    "VOO = VOO.history(start=start, end=end)\n",
    "VOO.head(4)"
   ]
  },
  {
   "cell_type": "code",
   "execution_count": null,
   "metadata": {
    "colab": {
     "base_uri": "https://localhost:8080/",
     "height": 282
    },
    "colab_type": "code",
    "id": "WZKqLvaJ67E8",
    "outputId": "0bbcd237-7b97-4d06-9710-de3f2bf4bf33"
   },
   "outputs": [],
   "source": [
    "plt.plot(VOO['Low'])\n",
    "plt.plot(VOO['High'])\n",
    "plt.plot(VOO['Close'])"
   ]
  },
  {
   "cell_type": "markdown",
   "metadata": {
    "colab_type": "text",
    "id": "ks9kJ23xtJOt"
   },
   "source": [
    "# EDA"
   ]
  },
  {
   "cell_type": "code",
   "execution_count": null,
   "metadata": {
    "colab": {
     "base_uri": "https://localhost:8080/",
     "height": 433
    },
    "colab_type": "code",
    "id": "TAiu4LMwbCJB",
    "outputId": "5814e397-ea74-43cd-ec2f-1283a67db388"
   },
   "outputs": [],
   "source": [
    "list_of_ETF_names =         ['ARKW','DWSH','QQQ','VOO','IAU','LTPZ', 'VT','EDV','VCLT','EMLC','DBC','UVXY','IEHS','JNJ','VTI','SCHB','CIBR','CASH']\n",
    "asset_fraction_RayDalio =   [   0.0,   0.0,  0.0,  0.0, 0.05,   0.2, 0.35,  0.2, 0.075, 0.075, 0.05,   0.0,   0.0,  0.0,  0.0,   0.0,   0.0,   0.0]\n",
    "asset_fraction_Preliminary= [   1.0,   1.0,  1.0,  1.0,  1.0,   1.0,  0.0,  0.0,   0.0,   0.0,  0.0,   0.0,   0.0,  0.0,  0.0,   0.0,   0.0,   0.0]\n",
    "asset_fraction_Preliminary = np.array(asset_fraction_Preliminary)/np.sum(asset_fraction_Preliminary)\n",
    "\n",
    "list_of_ETFs = []\n",
    "\n",
    "for ETF_names in list_of_ETF_names:\n",
    "  if ETF_names == 'CASH':\n",
    "    tmp = yf.Ticker('VOO')\n",
    "    tmp = tmp.history(start=start, end=end)\n",
    "    tmp['Open'] = 1.0\n",
    "    tmp['High'] = 1.0\n",
    "    tmp['Low'] = 1.0\n",
    "    tmp['Close'] = 1.0\n",
    "    tmp['Volume'] = 1.0\n",
    "    tmp['Dividends'] = 0.0\n",
    "    tmp['Stock Splits'] = 0.0\n",
    "    list_of_ETFs.append(tmp.copy())\n",
    "  else:\n",
    "    tmp = yf.Ticker(ETF_names)\n",
    "    list_of_ETFs.append(tmp.history(start=start, end=end).copy())\n",
    "\n",
    "plt.figure(figsize=(15,6))\n",
    "for item in list_of_ETFs:\n",
    "  print(item.index[0], item.index[-1])\n",
    "#   print(item['Date'][0])\n",
    "  plt.plot(item['Close']/item['Close'][0])\n",
    "plt.legend(list_of_ETF_names)"
   ]
  },
  {
   "cell_type": "code",
   "execution_count": null,
   "metadata": {},
   "outputs": [],
   "source": [
    "plt.figure(figsize=(15,6))\n",
    "for item in list_of_ETFs:\n",
    "  plt.plot(item['Stock Splits'])\n",
    "plt.legend(list_of_ETF_names)"
   ]
  },
  {
   "cell_type": "code",
   "execution_count": null,
   "metadata": {
    "colab": {},
    "colab_type": "code",
    "id": "yZVholQuftfl"
   },
   "outputs": [],
   "source": [
    "def get_index(ETFname):\n",
    "  for i,name in enumerate(list_of_ETF_names):\n",
    "    if name==ETFname:\n",
    "      return i"
   ]
  },
  {
   "cell_type": "markdown",
   "metadata": {
    "colab_type": "text",
    "id": "34mHZjYmZhj9"
   },
   "source": [
    "### TEST: Prilimirary portfolio vs Raydalio All weather"
   ]
  },
  {
   "cell_type": "code",
   "execution_count": null,
   "metadata": {
    "colab": {},
    "colab_type": "code",
    "id": "D44nZiKBdne7"
   },
   "outputs": [],
   "source": [
    "def get_portfolio(asset_fraction):\n",
    "\n",
    "  portfolio = pd.DataFrame(list_of_ETFs[0]['Close'].copy())\n",
    "  portfolio['Close'] = 10000.0\n",
    "  \n",
    "  asset_value = portfolio.iloc[0]['Close']\n",
    "  for iDate in range(1,len(portfolio['Close'])):\n",
    "    asset_value = portfolio.iloc[iDate-1]['Close']\n",
    "    asset_value_change = 0\n",
    "    for iETF,ETF in enumerate(list_of_ETFs):\n",
    "      changes_ratio = ETF.iloc[iDate]['Close']/ETF.iloc[iDate-1]['Close'] - 1.0\n",
    "      asset_value_change = asset_value_change + asset_value*asset_fraction[iETF]*changes_ratio\n",
    "      asset_value_change = asset_value_change + asset_value*asset_fraction[iETF]/ETF.iloc[iDate]['Close']*ETF.iloc[iDate]['Dividends']\n",
    "    asset_value = asset_value + asset_value_change\n",
    "    portfolio.iloc[iDate]['Close'] = asset_value\n",
    "\n",
    "  return portfolio"
   ]
  },
  {
   "cell_type": "code",
   "execution_count": null,
   "metadata": {
    "colab": {},
    "colab_type": "code",
    "id": "9QY3V-eYTDcF"
   },
   "outputs": [],
   "source": [
    "portfolio_RayDalio = get_portfolio(asset_fraction_RayDalio)\n",
    "portfolio_Preliminary = get_portfolio(asset_fraction_Preliminary)"
   ]
  },
  {
   "cell_type": "code",
   "execution_count": null,
   "metadata": {
    "colab": {
     "base_uri": "https://localhost:8080/",
     "height": 282
    },
    "colab_type": "code",
    "id": "4hAE5owkd1a7",
    "outputId": "1e300f82-eab4-42c6-e7e7-4b8657472d2e"
   },
   "outputs": [],
   "source": [
    "plt.figure(figsize=(12,4))\n",
    "item = list_of_ETFs[get_index('ARKW')]\n",
    "plt.plot(item['Close']/item['Close'][0])\n",
    "item = list_of_ETFs[get_index('QQQ')]\n",
    "plt.plot(item['Close']/item['Close'][0])\n",
    "item = list_of_ETFs[get_index('VOO')]\n",
    "plt.plot(item['Close']/item['Close'][0])\n",
    "\n",
    "plt.plot(portfolio_Preliminary['Close']/portfolio_Preliminary['Close'][0])\n",
    "plt.plot(portfolio_RayDalio['Close']/portfolio_RayDalio['Close'][0])\n",
    "\n",
    "plt.legend([list_of_ETF_names[get_index('ARKW')],\n",
    "            list_of_ETF_names[get_index('QQQ')],\n",
    "            list_of_ETF_names[get_index('VOO')],\n",
    "            'portfolio_Preliminary',\n",
    "            'portfolio_RayDalio'])"
   ]
  },
  {
   "cell_type": "code",
   "execution_count": null,
   "metadata": {
    "colab": {},
    "colab_type": "code",
    "id": "5yKdfJXEKXaf"
   },
   "outputs": [],
   "source": [
    "def get_linear_model(asset_hist):\n",
    "  n_days = len(asset_hist)\n",
    "  momentum = (asset_hist[-1]/asset_hist[0]-1.0)/n_days\n",
    "  diff = asset_hist/asset_hist[0] - momentum*range(n_days)\n",
    "  return momentum, diff\n",
    "\n",
    "\n",
    "# performace_measure_duration = 60 ~ approximate 3 month\n",
    "# tolarable volatility / momentum = 0.7\n",
    "\n",
    "def get_portfolio_performance_based_on_linear_model(asset_fraction):\n",
    "  asset_fraction_tmp = np.array(asset_fraction)\n",
    "  asset_fraction_tmp = asset_fraction_tmp/np.sum(asset_fraction_tmp)\n",
    "  portfolio = get_portfolio(asset_fraction_tmp)\n",
    "  Momentum = []\n",
    "  volatility = []\n",
    "  for i in range(len(portfolio['Close'] -21)):\n",
    "    tmp = portfolio['Close'][i:i+21]\n",
    "    p, diff = get_linear_model(tmp)\n",
    "    std = np.std(diff)\n",
    "    Momentum.append(p)\n",
    "    volatility.append(std)\n",
    "\n",
    "  return np.array(Momentum) - 0.7*np.array(volatility)"
   ]
  },
  {
   "cell_type": "code",
   "execution_count": null,
   "metadata": {
    "colab": {},
    "colab_type": "code",
    "id": "9Z32LHB4ZyVi"
   },
   "outputs": [],
   "source": [
    "# Exponential Moving Average (EMA)\n",
    "s = 2.0 # smoothing param\n",
    "d = 60  # averaging duration\n",
    "\n",
    "def get_EMA(asset_hist):\n",
    "  EMA = [np.mean(asset_hist[0:d])]\n",
    "  for i in range(d,len(asset_hist)):\n",
    "    EMA.append(asset_hist[i]*s/(1.0+d) + EMA[-1]*(1.0-s/(1.0+d)))\n",
    "  \n",
    "  return pd.Series(EMA,index=asset_hist.index[d-1:])"
   ]
  },
  {
   "cell_type": "code",
   "execution_count": null,
   "metadata": {
    "colab": {},
    "colab_type": "code",
    "id": "_DRMxp8AfMxO"
   },
   "outputs": [],
   "source": [
    "EMAs = {'ARKW':get_EMA(list_of_ETFs[get_index('ARKW')]['Close']),\n",
    "        'QQQ' :get_EMA(list_of_ETFs[get_index('QQQ' )]['Close']),\n",
    "        'VOO' :get_EMA(list_of_ETFs[get_index('VOO' )]['Close']),\n",
    "        'Preliminary':get_EMA(portfolio_Preliminary['Close']),\n",
    "        'RayDalio':get_EMA(portfolio_RayDalio['Close'])}"
   ]
  },
  {
   "cell_type": "code",
   "execution_count": null,
   "metadata": {},
   "outputs": [],
   "source": [
    "plt.figure(figsize=(12,2))\n",
    "plt.subplot(1,2,1)\n",
    "plt.plot(list_of_ETFs[get_index('ARKW')]['Close'][d-1:]/list_of_ETFs[get_index('ARKW')]['Close'][d-1])\n",
    "plt.plot(EMAs['ARKW']/EMAs['ARKW'][0])\n",
    "\n",
    "plt.subplot(1,2,2)\n",
    "plt.plot(list_of_ETFs[get_index('QQQ')]['Close'][d-1:]/list_of_ETFs[get_index('QQQ')]['Close'][d-1])\n",
    "plt.plot(EMAs['QQQ']/EMAs['QQQ'][0])"
   ]
  },
  {
   "cell_type": "code",
   "execution_count": null,
   "metadata": {
    "colab": {
     "base_uri": "https://localhost:8080/",
     "height": 174
    },
    "colab_type": "code",
    "id": "VCVoCCXYi4Lo",
    "outputId": "d46440d2-0cb6-4dad-e06d-20dac3450a50"
   },
   "outputs": [],
   "source": [
    "plt.figure(figsize=(12,2))\n",
    "plt.subplot(1,2,1)\n",
    "plt.plot(portfolio_Preliminary['Close'][d-1:]/portfolio_Preliminary['Close'][d-1])\n",
    "plt.plot(EMAs['Preliminary']/EMAs['Preliminary'][0])\n",
    "\n",
    "plt.subplot(1,2,2)\n",
    "plt.plot(portfolio_RayDalio['Close'][d-1:]/portfolio_RayDalio['Close'][d-1])\n",
    "plt.plot(EMAs['RayDalio']/EMAs['RayDalio'][0])"
   ]
  },
  {
   "cell_type": "code",
   "execution_count": null,
   "metadata": {
    "colab": {},
    "colab_type": "code",
    "id": "BU5pqWjAFQEW"
   },
   "outputs": [],
   "source": [
    "# performace measure similar to Sharpe Ratio\n",
    "# measure = normalized gain  / ( normalzied std + epsilon)\n",
    "epsilon = 0.003  # fractional tolerable volatility\n",
    "dd = 100 # performance measure duration \n",
    "\n",
    "def get_performance_based_on_EMA(asset_hist):\n",
    "  EMA = get_EMA(asset_hist)\n",
    "  DIFF = asset_hist[d-1:]/EMA - 1.0\n",
    "  performance = []\n",
    "  for i in range(len(EMA)-dd):\n",
    "    performance.append( (asset_hist[d-1+i+dd]/asset_hist[d-1+i]-1.0) / (np.std(DIFF[i:i+dd])+epsilon) )\n",
    "  return np.mean(performance)/(np.std(performance)+epsilon)"
   ]
  },
  {
   "cell_type": "code",
   "execution_count": null,
   "metadata": {
    "colab": {
     "base_uri": "https://localhost:8080/",
     "height": 101
    },
    "colab_type": "code",
    "id": "W7T_rfmrKYkc",
    "outputId": "0ccac9f0-9408-45d8-ffd4-c4c681103ede"
   },
   "outputs": [],
   "source": [
    "print('ARKW performace:',  get_performance_based_on_EMA(list_of_ETFs[get_index('ARKW')]['Close']) )\n",
    "print('QQQ  performace:',  get_performance_based_on_EMA(list_of_ETFs[get_index('QQQ') ]['Close']) )\n",
    "print('VOO  performace:',  get_performance_based_on_EMA(list_of_ETFs[get_index('VOO') ]['Close']) )\n",
    "print('RayDalio performace:',  get_performance_based_on_EMA(portfolio_RayDalio['Close']))\n",
    "print('Preliminary performace:',  get_performance_based_on_EMA(portfolio_Preliminary['Close']))"
   ]
  },
  {
   "cell_type": "markdown",
   "metadata": {
    "colab_type": "text",
    "id": "IG-XfHzKm9X8"
   },
   "source": [
    "### Optimize portfolio: "
   ]
  },
  {
   "cell_type": "code",
   "execution_count": null,
   "metadata": {
    "colab": {},
    "colab_type": "code",
    "id": "dtswk0I-nB_J"
   },
   "outputs": [],
   "source": [
    "from scipy import optimize\n",
    "from copy import deepcopy as copy"
   ]
  },
  {
   "cell_type": "code",
   "execution_count": null,
   "metadata": {
    "colab": {},
    "colab_type": "code",
    "id": "VgfROyuMnOGL"
   },
   "outputs": [],
   "source": [
    "def obj(asset_fraction):\n",
    "  asset_fraction_tmp = np.array(asset_fraction)\n",
    "  asset_fraction_tmp = asset_fraction_tmp/np.sum(asset_fraction_tmp)\n",
    "  portfolio = get_portfolio(asset_fraction_tmp)\n",
    "  performance = get_performance_based_on_EMA(portfolio['Close'])\n",
    "  return -performance"
   ]
  },
  {
   "cell_type": "code",
   "execution_count": null,
   "metadata": {
    "colab": {
     "base_uri": "https://localhost:8080/",
     "height": 218
    },
    "colab_type": "code",
    "id": "F9rwhg_2Ia1t",
    "outputId": "76ad4448-e5fd-4803-947a-8e9c8bc8bb70"
   },
   "outputs": [],
   "source": [
    "list_of_ETF_names"
   ]
  },
  {
   "cell_type": "code",
   "execution_count": null,
   "metadata": {
    "colab": {},
    "colab_type": "code",
    "id": "1dqhNhx-_v_S"
   },
   "outputs": [],
   "source": [
    "bounds = [(0.0,1.0) for i in range(len(list_of_ETF_names))]\n",
    "len(bounds)"
   ]
  },
  {
   "cell_type": "code",
   "execution_count": null,
   "metadata": {
    "colab": {},
    "colab_type": "code",
    "id": "kZzLzOwc_8HQ"
   },
   "outputs": [],
   "source": [
    "# result = optimize.differential_evolution(obj,bounds,disp=True,popsize=20,workers=30)"
   ]
  },
  {
   "cell_type": "code",
   "execution_count": null,
   "metadata": {},
   "outputs": [],
   "source": [
    "# asset_fraction = result.x/np.sum(result.x)\n",
    "\n",
    "asset_fraction = np.array([0.        , 0.00327022, 0.51492578, 0.        , 0.        ,\n",
    "       0.        , 0.        , 0.23805659, 0.        , 0.        ,\n",
    "       0.        , 0.02324708, 0.        , 0.00705438, 0.        ,\n",
    "       0.        , 0.        , 0.21344594])"
   ]
  },
  {
   "cell_type": "code",
   "execution_count": null,
   "metadata": {},
   "outputs": [],
   "source": [
    "asset_fraction"
   ]
  },
  {
   "cell_type": "code",
   "execution_count": null,
   "metadata": {},
   "outputs": [],
   "source": [
    "for i,ETFname in enumerate(list_of_ETF_names):\n",
    "    print(ETFname,asset_fraction[i])"
   ]
  },
  {
   "cell_type": "code",
   "execution_count": null,
   "metadata": {},
   "outputs": [],
   "source": [
    "portfolio = get_portfolio(asset_fraction)"
   ]
  },
  {
   "cell_type": "code",
   "execution_count": null,
   "metadata": {},
   "outputs": [],
   "source": [
    "plt.figure(figsize=(12,4))\n",
    "item = list_of_ETFs[get_index('ARKW')]\n",
    "plt.plot(item['Close']/item['Close'][0])\n",
    "item = list_of_ETFs[get_index('QQQ')]\n",
    "plt.plot(item['Close']/item['Close'][0])\n",
    "item = list_of_ETFs[get_index('VOO')]\n",
    "plt.plot(item['Close']/item['Close'][0])\n",
    "\n",
    "plt.plot(portfolio_Preliminary['Close']/portfolio_Preliminary['Close'][0])\n",
    "plt.plot(portfolio_RayDalio['Close']/portfolio_RayDalio['Close'][0])\n",
    "plt.plot(portfolio['Close']/portfolio['Close'][0])\n",
    "\n",
    "plt.legend([list_of_ETF_names[get_index('ARKW')],\n",
    "            list_of_ETF_names[get_index('QQQ')],\n",
    "            list_of_ETF_names[get_index('VOO')],\n",
    "            'portfolio_Preliminary',\n",
    "            'portfolio_RayDalio',\n",
    "            'portfolio'])"
   ]
  },
  {
   "cell_type": "code",
   "execution_count": null,
   "metadata": {},
   "outputs": [],
   "source": [
    "d_from = 250\n",
    "\n",
    "plt.figure(figsize=(12,4))\n",
    "item = list_of_ETFs[get_index('ARKW')]\n",
    "plt.plot(item['Close'][d_from:]/item['Close'][d_from])\n",
    "item = list_of_ETFs[get_index('QQQ')]\n",
    "plt.plot(item['Close'][d_from:]/item['Close'][d_from])\n",
    "item = list_of_ETFs[get_index('VOO')]\n",
    "plt.plot(item['Close'][d_from:]/item['Close'][d_from])\n",
    "\n",
    "plt.plot(portfolio_Preliminary['Close'][d_from:]/portfolio_Preliminary['Close'][d_from])\n",
    "plt.plot(portfolio_RayDalio['Close'][d_from:]/portfolio_RayDalio['Close'][d_from])\n",
    "plt.plot(portfolio['Close'][d_from:]/portfolio['Close'][d_from])\n",
    "\n",
    "plt.legend([list_of_ETF_names[get_index('ARKW')],\n",
    "            list_of_ETF_names[get_index('QQQ')],\n",
    "            list_of_ETF_names[get_index('VOO')],\n",
    "            'portfolio_Preliminary',\n",
    "            'portfolio_RayDalio',\n",
    "            'portfolio'])"
   ]
  },
  {
   "cell_type": "code",
   "execution_count": null,
   "metadata": {},
   "outputs": [],
   "source": [
    "plt.figure(figsize=(12,2))\n",
    "plt.subplot(1,2,1)\n",
    "plt.plot(portfolio_Preliminary['Close'][d-1:]/portfolio_Preliminary['Close'][d-1])\n",
    "plt.plot(EMAs['Preliminary']/EMAs['Preliminary'][0])\n",
    "\n",
    "EMAs['portfolio']=get_EMA(portfolio['Close'])\n",
    "plt.subplot(1,2,2)\n",
    "plt.plot(portfolio['Close'][d-1:]/portfolio['Close'][d-1])\n",
    "plt.plot(EMAs['portfolio']/EMAs['portfolio'][0])"
   ]
  },
  {
   "cell_type": "markdown",
   "metadata": {},
   "source": [
    "# From ratio to number of shares"
   ]
  },
  {
   "cell_type": "code",
   "execution_count": null,
   "metadata": {},
   "outputs": [],
   "source": [
    "# prices = []\n",
    "# for ETF in list_of_ETFs:\n",
    "#     prices.append(ETF['Close'][-1])"
   ]
  },
  {
   "cell_type": "code",
   "execution_count": null,
   "metadata": {},
   "outputs": [],
   "source": [
    "prices = []\n",
    "for ETFname in list_of_ETF_names:\n",
    "    if ETFname == 'CASH':\n",
    "        prices.append(1.0)\n",
    "    else:\n",
    "        prices.append(si.get_live_price(ETFname))\n",
    "    print(ETFname, prices[-1])"
   ]
  },
  {
   "cell_type": "code",
   "execution_count": null,
   "metadata": {},
   "outputs": [],
   "source": [
    "len(list_of_ETFs)"
   ]
  },
  {
   "cell_type": "code",
   "execution_count": null,
   "metadata": {},
   "outputs": [],
   "source": [
    "def get_portfolio_shares(asset_Value,asset_fraction,prices):\n",
    "    shares = {}\n",
    "    for i,ETFname in enumerate(list_of_ETF_names):\n",
    "        shares[ETFname]=asset_Value*asset_fraction[i]/prices[i]\n",
    "    return shares"
   ]
  },
  {
   "cell_type": "markdown",
   "metadata": {},
   "source": [
    "### optimized portfolio shares"
   ]
  },
  {
   "cell_type": "code",
   "execution_count": null,
   "metadata": {},
   "outputs": [],
   "source": [
    "shares = get_portfolio_shares(20000,asset_fraction,prices)\n",
    "shares"
   ]
  },
  {
   "cell_type": "markdown",
   "metadata": {},
   "source": [
    "### optimized portfolio shares"
   ]
  },
  {
   "cell_type": "code",
   "execution_count": null,
   "metadata": {},
   "outputs": [],
   "source": [
    "shares = get_portfolio_shares(15000,0.4*np.array(asset_fraction)+0.6*np.array(asset_fraction_RayDalio),prices)\n",
    "shares"
   ]
  },
  {
   "cell_type": "code",
   "execution_count": null,
   "metadata": {},
   "outputs": [],
   "source": []
  }
 ],
 "metadata": {
  "colab": {
   "collapsed_sections": [],
   "name": "[zero_interest_recession_scenario]all_weather_portfolio_stress_test.ipynb",
   "provenance": []
  },
  "kernelspec": {
   "display_name": "Python 3",
   "language": "python",
   "name": "python3"
  },
  "language_info": {
   "codemirror_mode": {
    "name": "ipython",
    "version": 3
   },
   "file_extension": ".py",
   "mimetype": "text/x-python",
   "name": "python",
   "nbconvert_exporter": "python",
   "pygments_lexer": "ipython3",
   "version": "3.7.4"
  }
 },
 "nbformat": 4,
 "nbformat_minor": 4
}
